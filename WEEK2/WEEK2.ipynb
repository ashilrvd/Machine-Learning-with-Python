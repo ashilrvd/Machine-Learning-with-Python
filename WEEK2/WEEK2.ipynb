{
 "cells": [
  {
   "attachments": {},
   "cell_type": "markdown",
   "metadata": {},
   "source": [
    "# Regression:"
   ]
  },
  {
   "attachments": {},
   "cell_type": "markdown",
   "metadata": {},
   "source": [
    " Question 1\n",
    "# What are the requirements for independent and dependent variables in regression?\n",
    "\n",
    "* ⦁\tIndependent variables can be either categorical or continuous. Dependent variables must be continuous.\n",
    "\n",
    "        In regression, the independent variable(s) is used to predict the dependent variable, so the requirements for them are different. The independent variable can be either categorical or continuous, it can be any variable that can explain the variation in the dependent variable. On the other hand, the dependent variable is the variable that we are trying to predict, it must be continuous. It can be a real-valued number, such as a price, weight, height, etc. It could also be a time series, such as stock prices, temperature, etc."
   ]
  },
  {
   "cell_type": "markdown",
   "metadata": {},
   "source": []
  },
  {
   "attachments": {},
   "cell_type": "markdown",
   "metadata": {},
   "source": [
    " Question 2\n",
    "# The key difference between simple and multiple regression is:\n",
    "* ⦁\tTo estimate a single dependent variable, simple regression uses one independent variable whereas multiple regression uses multiple.\n",
    "\n",
    "        Simple linear regression involves estimating a single dependent variable using a single independent variable. Multiple linear regression, as the name suggests, involves estimating a single dependent variable using multiple independent variables. The key difference between simple and multiple regression is the number of independent variables. In multiple linear regression, we use more than one independent variable to predict the value of the dependent variable. The relationship between the independent and dependent variables is assumed to be linear, which means the change in the dependent variable is proportional to the change in the independent variable"
   ]
  },
  {
   "attachments": {},
   "cell_type": "markdown",
   "metadata": {},
   "source": [
    "Question 3\n",
    "# Recall that we tried to predict CO2 emission with car information. Say that now we can describe the relationship as: CO2_emission = 130 - 2.4*cylinders + 8.3*fuel_consumption\n",
    "# What is TRUE of this relationship? \n",
    "\n",
    "\n",
    "* When “cylinders” decreases by 1 while fuel_consumption remains constant, CO2_emission increases by 2.4 units.\n",
    "\n",
    "*#* When “cylinders” increases by 1 while fuel_consumption remains constant, CO2_emission decreases by 2.4 units.\n",
    "\n",
    "* Since the coefficient for “fuel_consumption” is greater than that for “cylinders”, “fuel_consumption” has higher impact on CO2_emission.\n",
    "        \n",
    "        The relationship between CO2 emission and car information can be represented by the equation CO2_emission = 130 - 2.4cylinders + 8.3fuel_consumption. This equation is a linear equation. The coefficients of independent variables(cylinders and fuel_consumption) indicate the relationship between the variables and the dependent variable. The coefficient of cylinders is -2.4, which means that as the number of cylinders increases, the CO2 emission decreases by 2.4 units. The coefficient of fuel_consumption is 8.3, which means that as the fuel consumption increases, the CO2 emission increases by 8.3 units. Since the coefficient of fuel_consumption is greater than that of cylinders, the fuel consumption has a higher impact on CO2 emission.\n"
   ]
  },
  {
   "attachments": {},
   "cell_type": "markdown",
   "metadata": {},
   "source": [
    "Question 4\n",
    "# What could be the cause of a model yielding high training accuracy and low out-of-sample accuracy?\n",
    "\n",
    "\n",
    "*\tThe model is training on the entire dataset, so it is overfitting.\n",
    "\n",
    "        Overfitting occurs when a model learns the detail and noise in the training data to the extent that it negatively impacts the performance of the model on new data. This means that noise or random fluctuations in the training data is picked up and learned as concepts by the model. The noise or randomness in the training data is unlikely to be present in the new data, so the model will perform poorly on it. When a model is overfitting, it has high training accuracy but low out-of-sample accuracy.\n"
   ]
  },
  {
   "attachments": {},
   "cell_type": "markdown",
   "metadata": {},
   "source": [
    "Question 5\n",
    "# Multiple Linear Regression is appropriate for:\n",
    "\n",
    "* Predicting tomorrow’s rainfall amount based on the wind speed and temperature.\n",
    "* Predicting the sales amount based on month.\n",
    "\n",
    "        \n",
    "        Multiple Linear Regression is a statistical method for modeling the relationship between a dependent variable (also known as the outcome or response variable) and one or more independent variables (also known as predictor variables, features or explanatory variables). It is used when we have more than one independent variable, it is an extension of Simple Linear Regression. It is used to predict a continuous target variable based on one or more predictor variables. So it is appropriate for predicting tomorrow’s rainfall amount based on the wind speed and temperature, and predicting the sales amount based on month."
   ]
  },
  {
   "cell_type": "markdown",
   "metadata": {},
   "source": []
  }
 ],
 "metadata": {
  "language_info": {
   "name": "python"
  },
  "orig_nbformat": 4
 },
 "nbformat": 4,
 "nbformat_minor": 2
}
