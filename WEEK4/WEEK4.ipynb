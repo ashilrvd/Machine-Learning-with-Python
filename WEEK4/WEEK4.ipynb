{
 "cells": [
  {
   "attachments": {},
   "cell_type": "markdown",
   "metadata": {},
   "source": [
    "# : Linear Classification"
   ]
  },
  {
   "attachments": {},
   "cell_type": "markdown",
   "metadata": {},
   "source": [
    "Question 1\n",
    "# Which option lists the steps of training a logistic regression model in the correct order?\n",
    "    1.Use the cost function on the training set.\n",
    "    2.Update weights with new parameter values.\n",
    "    3.Calculate cost function gradient.\n",
    "    4.Initialize the parameters.\n",
    "    5.Repeat until specified cost or iterations reached. \n",
    "\n",
    "* Initialize the parameters.\n",
    "* Use the cost function on the training set.\n",
    "* Calculate cost function gradient.\n",
    "* Update weights with new parameter values.\n",
    "* Repeat until specified cost or iterations reached.\n",
    "\n",
    "4, 1, 3, 2, 5,"
   ]
  },
  {
   "attachments": {},
   "cell_type": "markdown",
   "metadata": {},
   "source": [
    "Question 2\n",
    "# What is the objective of SVM in terms of hyperplanes?\n",
    "* Choose the hyperplane that represents the largest margin between the two classes"
   ]
  },
  {
   "attachments": {},
   "cell_type": "markdown",
   "metadata": {},
   "source": [
    "Question 3\n",
    "# Logistic regression is used to predict the probability of a:\n",
    "* Categorical dependent variable"
   ]
  },
  {
   "attachments": {},
   "cell_type": "markdown",
   "metadata": {},
   "source": [
    "Question 4\n",
    "# In which cases would we want to consider using SVM?\n",
    "* When mapping the data to a higher dimensional feature space can better separate classes.\n",
    "\n",
    "        When we desire efficiency when using large datasets.\n",
    "\n",
    "        When we want multiple decision boundaries with varying weights."
   ]
  },
  {
   "attachments": {},
   "cell_type": "markdown",
   "metadata": {},
   "source": [
    "Question 5\n",
    "# What is a disadvantage of one-vs-all classification?\n",
    "         // It cannot output probability estimates of classes."
   ]
  },
  {
   "cell_type": "markdown",
   "metadata": {},
   "source": []
  }
 ],
 "metadata": {
  "language_info": {
   "name": "python"
  },
  "orig_nbformat": 4
 },
 "nbformat": 4,
 "nbformat_minor": 2
}
