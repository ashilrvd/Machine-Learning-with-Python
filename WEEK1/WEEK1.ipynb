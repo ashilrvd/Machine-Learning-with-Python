{
 "cells": [
  {
   "attachments": {},
   "cell_type": "markdown",
   "metadata": {},
   "source": [
    "# Intro to Machine Learning #"
   ]
  },
  {
   "attachments": {},
   "cell_type": "markdown",
   "metadata": {},
   "source": [
    " Question 1\n",
    "# In a dataset, what do the columns represent?\n",
    "\n",
    "* Features or Independent Variables.\n",
    "\n",
    "        In a dataset, columns represent the features or independent variables. Each column represents a variable or characteristic of the observations (rows) in the dataset. These features are often used as inputs to a model to make predictions or inferences about the observations."
   ]
  },
  {
   "cell_type": "markdown",
   "metadata": {},
   "source": []
  },
  {
   "attachments": {},
   "cell_type": "markdown",
   "metadata": {},
   "source": [
    " Question 2\n",
    "# What is a major benefit of unsupervised learning over supervised learning?\n",
    "\n",
    "* Discover previously unknown information about the dataset.\n",
    "\n",
    "        A major benefit of unsupervised learning over supervised learning is that it allows the model to discover previously unknown information about the dataset. Unsupervised learning models can identify patterns, group similar observations together and extract useful features from the data, even if the data is unlabelled. In contrast, supervised learning models rely on labeled data and predefined features to make predictions, so they may not be able to identify new patterns and relationships in the data."
   ]
  },
  {
   "attachments": {},
   "cell_type": "markdown",
   "metadata": {},
   "source": [
    "Question 3\n",
    "# What’s the correct order for using a model? \n",
    "\n",
    "* Clean the data, split the data into training and test sets, fit the model on the train set, evaluate model accuracy.\n",
    "\n",
    "        The correct order for using a model is:\n",
    "\n",
    "        Clean the data: This step includes handling missing values, outliers, and any other data inconsistencies.\n",
    "\n",
    "        Split the data into training and test sets: This step is important to evaluate the model's performance on unseen data.\n",
    "\n",
    "        Fit the model on the train set: This step is where the model is trained on the training set.\n",
    "\n",
    "        Evaluate model accuracy: This step is done on the test set, comparing the model's predictions against the actual values."
   ]
  },
  {
   "attachments": {},
   "cell_type": "markdown",
   "metadata": {},
   "source": [
    "Question 4\n",
    "# Which of the following is suitable for an unsupervised learning?\n",
    "\n",
    "* Segment customers into groups for discovering similar characteristics between them.\n",
    "\n",
    "        Unsupervised learning is suitable for discovering patterns or relationships in unlabeled data. The first example, classifying benign and malignant tumors, is a supervised learning problem because it involves labeled data (historical data on benign and malignant tumors). The second example, segmenting customers into groups for discovering similar characteristics between them, is an unsupervised learning problem. The third example, examine the relationship between academic performance and level of in-class participation, is a supervised learning problem because it involves labeled data (observations that include student’s grade). The fourth example, predict house price based on location, house size, and number of rooms, is a supervised learning problem because it involves labeled data (house price)."
   ]
  },
  {
   "attachments": {},
   "cell_type": "markdown",
   "metadata": {},
   "source": [
    "Question 5\n",
    "# The main purpose of the NumPy library is to: \n",
    "\n",
    "* Perform computations on arrays efficiently.\n",
    "        \n",
    "        The main purpose of the NumPy library is to perform computations on arrays efficiently. It provides a powerful and flexible array object, as well as a large set of mathematical functions to operate on those arrays. NumPy is widely used in scientific and mathematical computing, data analysis, and machine learning, because it allows for fast and efficient numerical computations on large arrays of data. While it does not include visualization or model construction tools, it can be integrated with other libraries to achieve those tasks."
   ]
  },
  {
   "cell_type": "markdown",
   "metadata": {},
   "source": []
  }
 ],
 "metadata": {
  "language_info": {
   "name": "python"
  },
  "orig_nbformat": 4
 },
 "nbformat": 4,
 "nbformat_minor": 2
}
