{
 "cells": [
  {
   "attachments": {},
   "cell_type": "markdown",
   "metadata": {},
   "source": [
    "# Classification"
   ]
  },
  {
   "attachments": {},
   "cell_type": "markdown",
   "metadata": {},
   "source": [
    "Question 1\n",
    "# What can we infer about our kNN model when the value of K is too big?\n",
    "* The model is overly generalized and underfitted to the data.\n",
    "\n",
    "        The training accuracy will be high, while the out-of-sample accuracy will be low.\n",
    "        KNN algorithm is a non-parametric model, it means it doesn't make any assumptions about the underlying data. The model finds the k number of nearest points to the new data point and then assigns a label based on the majority of the k nearest points. When k is too big, it means the model is considering many points and it will be more sensitive to noise and outliers. As a result, the model will be too generalized and will not perform well on new, unseen data. Additionally, the training accuracy will be high because the model is memorizing the entire training set but it will have low out-of-sample accuracy."
   ]
  },
  {
   "attachments": {},
   "cell_type": "markdown",
   "metadata": {},
   "source": [
    "Question 2\n",
    "# When splitting data into branches for a decision tree, what kind of feature is favored and chosen first?\n",
    "* The feature that increases purity in the tree nodes."
   ]
  },
  {
   "attachments": {},
   "cell_type": "markdown",
   "metadata": {},
   "source": [
    "Question 3\n",
    "# What is the relationship between entropy and information gain?\n",
    "* When information gain increases, entropy decreases."
   ]
  },
  {
   "attachments": {},
   "cell_type": "markdown",
   "metadata": {},
   "source": [
    "Question 4\n",
    "# Predicting whether a customer responds to a particular advertising campaign or not is an example of what?\n",
    "* Classification problem"
   ]
  },
  {
   "attachments": {},
   "cell_type": "markdown",
   "metadata": {},
   "source": [
    "Question 5\n",
    "# For a new observation, how do we predict its response value (categorical) using a KNN model with k=5?\n",
    "* Take majority vote among 5 points whose features are closest to the new observation."
   ]
  },
  {
   "cell_type": "markdown",
   "metadata": {},
   "source": []
  }
 ],
 "metadata": {
  "language_info": {
   "name": "python"
  },
  "orig_nbformat": 4
 },
 "nbformat": 4,
 "nbformat_minor": 2
}
