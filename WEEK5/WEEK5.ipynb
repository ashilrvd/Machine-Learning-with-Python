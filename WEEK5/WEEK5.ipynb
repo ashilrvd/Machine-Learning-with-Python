{
 "cells": [
  {
   "attachments": {},
   "cell_type": "markdown",
   "metadata": {},
   "source": [
    "# : Clustering"
   ]
  },
  {
   "attachments": {},
   "cell_type": "markdown",
   "metadata": {},
   "source": [
    "Question 1\n",
    "# The objective of k-means clustering is:\n",
    "    Yield the highest out of sample accuracy\n",
    "    Minimize the cost function via gradient descent\n",
    "    Maximize the number of correctly classified data points\n",
    "    Separate dissimilar samples and group similar ones\n",
    "\n",
    "* Separate dissimilar samples and group similar ones."
   ]
  },
  {
   "attachments": {},
   "cell_type": "markdown",
   "metadata": {},
   "source": [
    "Question 2\n",
    "# Which option correctly orders the steps of k-means clustering?\n",
    "    1.Re-cluster the data points\n",
    "    2.Choose k random observations to calculate each cluster’s mean\n",
    "    3.Update centroid to take cluster mean\n",
    "    4.Repeat until centroids are constant\n",
    "    5.Calculate data point distance to centroids\n",
    "\n",
    "* 2.Choose k random observations to calculate each cluster's mean\n",
    "* 5.Calculate data point distance to centroids\n",
    "* 1.Re-cluster the data points\n",
    "* 3.Update centroid to take cluster mean\n",
    "* 4.Repeat steps 2-4 until centroids are constant."
   ]
  },
  {
   "attachments": {},
   "cell_type": "markdown",
   "metadata": {},
   "source": [
    "Question 3\n",
    "# How can we gauge the performance of a k-means clustering model when ground truth is not available?\n",
    "* Take the average of the distance between data points and their cluster centroids."
   ]
  },
  {
   "attachments": {},
   "cell_type": "markdown",
   "metadata": {},
   "source": [
    "Question 4\n",
    "# When the parameter K for k-means clustering increases, what happens to the error?\n",
    "* It will decrease because distance between data points and centroid will decrease."
   ]
  },
  {
   "attachments": {},
   "cell_type": "markdown",
   "metadata": {},
   "source": [
    "Question 5\n",
    "# Which of the following is true for partition-based clustering but not hierarchical nor density-based clustering algorithms?\n",
    "         // wrong * Partition-based clustering produces arbitrary shaped clusters"
   ]
  },
  {
   "cell_type": "markdown",
   "metadata": {},
   "source": []
  }
 ],
 "metadata": {
  "language_info": {
   "name": "python"
  },
  "orig_nbformat": 4
 },
 "nbformat": 4,
 "nbformat_minor": 2
}
